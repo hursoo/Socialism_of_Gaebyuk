{
 "cells": [
  {
   "cell_type": "code",
   "execution_count": null,
   "id": "62410fee-7cf9-41e1-9c8d-2d3cd6d3627b",
   "metadata": {},
   "outputs": [],
   "source": []
  },
  {
   "cell_type": "markdown",
   "id": "cb246d1b-aaae-460c-aa78-1621c4c3d07f",
   "metadata": {
    "tags": []
   },
   "source": [
    "# 데이터 불러오기"
   ]
  },
  {
   "cell_type": "markdown",
   "id": "c9fe9d3b-8227-4a51-97ff-14f3a0c50bca",
   "metadata": {
    "tags": []
   },
   "source": [
    "## 라이브러리"
   ]
  },
  {
   "cell_type": "code",
   "execution_count": 18,
   "id": "04f89482-6cf9-4291-96a3-356706cb214f",
   "metadata": {
    "tags": []
   },
   "outputs": [],
   "source": [
    "# gb_module.py\n",
    "\n",
    "# 주요 패키지 불러오기\n",
    "\n",
    "import pandas as pd\n",
    "import numpy as np\n",
    "import csv\n",
    "\n",
    "from tqdm import tqdm\n",
    "import time\n",
    "\n",
    "import matplotlib.pyplot as plt\n",
    "import seaborn as sns\n",
    "from scipy.cluster.hierarchy import linkage, fcluster, dendrogram\n",
    "from adjustText import adjust_text\n",
    "\n",
    "from sklearn.feature_extraction.text import CountVectorizer, TfidfVectorizer\n",
    "from sklearn.feature_extraction.text import TfidfVectorizer\n",
    "from sklearn.metrics.pairwise import cosine_similarity\n",
    "\n",
    "import gb_module\n",
    "\n",
    "# 그래프에서 한글 표시를 위한 폰트 설정\n",
    "plt.rcParams['font.family'] = 'Malgun Gothic'  # 맑은 고딕으로 설정\n",
    "plt.rcParams['axes.unicode_minus'] = False  # 마이너스 기호가 정상 표시되도록 설정"
   ]
  },
  {
   "cell_type": "code",
   "execution_count": 19,
   "id": "d0c8652c-fe7d-4135-833f-3117ea38cc36",
   "metadata": {
    "tags": []
   },
   "outputs": [],
   "source": [
    "# 그래프 선명하게\n",
    "import matplotlib.pyplot as plt\n",
    "plt.rcParams.update({'figure.dpi' : '100'})\n",
    "%config InlineBackend.figure_format = 'retina'"
   ]
  },
  {
   "cell_type": "markdown",
   "id": "dd03f57b-d9d6-42d0-912c-fedc69db813f",
   "metadata": {
    "tags": []
   },
   "source": [
    "## 데이터 불러오기\n",
    "- gb_df.txt (period 정보 반영)"
   ]
  },
  {
   "cell_type": "code",
   "execution_count": 20,
   "id": "384dcfe6-c0d5-4c14-b529-63eb923d5277",
   "metadata": {
    "tags": []
   },
   "outputs": [
    {
     "data": {
      "text/html": [
       "<div>\n",
       "<style scoped>\n",
       "    .dataframe tbody tr th:only-of-type {\n",
       "        vertical-align: middle;\n",
       "    }\n",
       "\n",
       "    .dataframe tbody tr th {\n",
       "        vertical-align: top;\n",
       "    }\n",
       "\n",
       "    .dataframe thead th {\n",
       "        text-align: right;\n",
       "    }\n",
       "</style>\n",
       "<table border=\"1\" class=\"dataframe\">\n",
       "  <thead>\n",
       "    <tr style=\"text-align: right;\">\n",
       "      <th></th>\n",
       "      <th>sent_id</th>\n",
       "      <th>sent_raw</th>\n",
       "      <th>sent_split</th>\n",
       "      <th>r_no</th>\n",
       "      <th>title</th>\n",
       "      <th>writer</th>\n",
       "      <th>w_new</th>\n",
       "      <th>ho_no</th>\n",
       "      <th>year</th>\n",
       "      <th>month</th>\n",
       "      <th>grid_1</th>\n",
       "      <th>period</th>\n",
       "    </tr>\n",
       "  </thead>\n",
       "  <tbody>\n",
       "    <tr>\n",
       "      <th>0</th>\n",
       "      <td>1</td>\n",
       "      <td>創刊辭</td>\n",
       "      <td>창간 辭</td>\n",
       "      <td>1</td>\n",
       "      <td>創刊辭</td>\n",
       "      <td>-</td>\n",
       "      <td>uk01</td>\n",
       "      <td>1</td>\n",
       "      <td>1920</td>\n",
       "      <td>6</td>\n",
       "      <td>01q</td>\n",
       "      <td>p1</td>\n",
       "    </tr>\n",
       "    <tr>\n",
       "      <th>1</th>\n",
       "      <td>2</td>\n",
       "      <td>强者도 부르짖고 弱者도 부르짖으며 優者도 부르짖고 劣者도 부르짖도다</td>\n",
       "      <td>강자 약자 優者 劣者</td>\n",
       "      <td>1</td>\n",
       "      <td>創刊辭</td>\n",
       "      <td>-</td>\n",
       "      <td>uk01</td>\n",
       "      <td>1</td>\n",
       "      <td>1920</td>\n",
       "      <td>6</td>\n",
       "      <td>01q</td>\n",
       "      <td>p1</td>\n",
       "    </tr>\n",
       "    <tr>\n",
       "      <th>2</th>\n",
       "      <td>3</td>\n",
       "      <td>東西南北 四海八方이 다같이 소리中에 묻혀 있도다</td>\n",
       "      <td>동서 남북 사해 팔방 소리</td>\n",
       "      <td>1</td>\n",
       "      <td>創刊辭</td>\n",
       "      <td>-</td>\n",
       "      <td>uk01</td>\n",
       "      <td>1</td>\n",
       "      <td>1920</td>\n",
       "      <td>6</td>\n",
       "      <td>01q</td>\n",
       "      <td>p1</td>\n",
       "    </tr>\n",
       "  </tbody>\n",
       "</table>\n",
       "</div>"
      ],
      "text/plain": [
       "   sent_id                               sent_raw      sent_split  r_no title  \\\n",
       "0        1                                    創刊辭            창간 辭     1   創刊辭   \n",
       "1        2  强者도 부르짖고 弱者도 부르짖으며 優者도 부르짖고 劣者도 부르짖도다     강자 약자 優者 劣者     1   創刊辭   \n",
       "2        3             東西南北 四海八方이 다같이 소리中에 묻혀 있도다  동서 남북 사해 팔방 소리     1   創刊辭   \n",
       "\n",
       "  writer w_new  ho_no  year  month grid_1 period  \n",
       "0      -  uk01      1  1920      6    01q     p1  \n",
       "1      -  uk01      1  1920      6    01q     p1  \n",
       "2      -  uk01      1  1920      6    01q     p1  "
      ]
     },
     "execution_count": 20,
     "metadata": {},
     "output_type": "execute_result"
    }
   ],
   "source": [
    "gb_df = pd.read_csv('result/gb_df.txt', sep='\\t')\n",
    "gb_df.head(3)"
   ]
  },
  {
   "cell_type": "markdown",
   "id": "4455b735-6158-4577-b5ba-c3e2d2304ab8",
   "metadata": {},
   "source": [
    "# 시기별 단어 간 관계 행렬 (1기)"
   ]
  },
  {
   "cell_type": "markdown",
   "id": "ae6cf9e1-b615-46ca-93ca-1cbeef1606e1",
   "metadata": {},
   "source": [
    "## 단어 유사도 행렬\n",
    "- 사용자 패키지 사용 + 가중 연결망 정보 생성용 입력값"
   ]
  },
  {
   "cell_type": "code",
   "execution_count": 23,
   "id": "a4eba731-39d1-4bf5-a965-ccadbc43784a",
   "metadata": {
    "tags": []
   },
   "outputs": [
    {
     "data": {
      "text/plain": [
       "(15240, 12)"
      ]
     },
     "execution_count": 23,
     "metadata": {},
     "output_type": "execute_result"
    }
   ],
   "source": [
    "# p1만 추출\n",
    "p1_gbdf = gb_df.query('period == \"p1\"')\n",
    "p1_gbdf.shape"
   ]
  },
  {
   "cell_type": "code",
   "execution_count": 24,
   "id": "e5b4326e-1ac6-412c-ae92-7d45792efa40",
   "metadata": {
    "tags": []
   },
   "outputs": [
    {
     "data": {
      "text/html": [
       "<div>\n",
       "<style scoped>\n",
       "    .dataframe tbody tr th:only-of-type {\n",
       "        vertical-align: middle;\n",
       "    }\n",
       "\n",
       "    .dataframe tbody tr th {\n",
       "        vertical-align: top;\n",
       "    }\n",
       "\n",
       "    .dataframe thead th {\n",
       "        text-align: right;\n",
       "    }\n",
       "</style>\n",
       "<table border=\"1\" class=\"dataframe\">\n",
       "  <thead>\n",
       "    <tr style=\"text-align: right;\">\n",
       "      <th></th>\n",
       "      <th>사회</th>\n",
       "      <th>朝鮮</th>\n",
       "      <th>생활</th>\n",
       "      <th>사람</th>\n",
       "      <th>민족</th>\n",
       "      <th>自己</th>\n",
       "      <th>主義</th>\n",
       "      <th>사상</th>\n",
       "      <th>세계</th>\n",
       "      <th>문화</th>\n",
       "      <th>...</th>\n",
       "      <th>현상</th>\n",
       "      <th>현재</th>\n",
       "      <th>일본</th>\n",
       "      <th>국가</th>\n",
       "      <th>인생</th>\n",
       "      <th>過去</th>\n",
       "      <th>농업</th>\n",
       "      <th>발달</th>\n",
       "      <th>지식</th>\n",
       "      <th>방법</th>\n",
       "    </tr>\n",
       "  </thead>\n",
       "  <tbody>\n",
       "    <tr>\n",
       "      <th>0</th>\n",
       "      <td>0.000000</td>\n",
       "      <td>0.0</td>\n",
       "      <td>0.0</td>\n",
       "      <td>0.0</td>\n",
       "      <td>0.000000</td>\n",
       "      <td>0.0</td>\n",
       "      <td>0.000000</td>\n",
       "      <td>0.000000</td>\n",
       "      <td>0.000000</td>\n",
       "      <td>0.000000</td>\n",
       "      <td>...</td>\n",
       "      <td>0.0</td>\n",
       "      <td>0.0</td>\n",
       "      <td>0.0</td>\n",
       "      <td>0.0</td>\n",
       "      <td>0.0</td>\n",
       "      <td>0.0</td>\n",
       "      <td>0.0</td>\n",
       "      <td>0.0</td>\n",
       "      <td>0.0</td>\n",
       "      <td>0.0</td>\n",
       "    </tr>\n",
       "    <tr>\n",
       "      <th>1</th>\n",
       "      <td>0.000000</td>\n",
       "      <td>0.0</td>\n",
       "      <td>0.0</td>\n",
       "      <td>0.0</td>\n",
       "      <td>0.000000</td>\n",
       "      <td>0.0</td>\n",
       "      <td>0.000000</td>\n",
       "      <td>0.000000</td>\n",
       "      <td>0.000000</td>\n",
       "      <td>0.000000</td>\n",
       "      <td>...</td>\n",
       "      <td>0.0</td>\n",
       "      <td>0.0</td>\n",
       "      <td>0.0</td>\n",
       "      <td>0.0</td>\n",
       "      <td>0.0</td>\n",
       "      <td>0.0</td>\n",
       "      <td>0.0</td>\n",
       "      <td>0.0</td>\n",
       "      <td>0.0</td>\n",
       "      <td>0.0</td>\n",
       "    </tr>\n",
       "    <tr>\n",
       "      <th>2</th>\n",
       "      <td>0.000000</td>\n",
       "      <td>0.0</td>\n",
       "      <td>0.0</td>\n",
       "      <td>0.0</td>\n",
       "      <td>0.000000</td>\n",
       "      <td>0.0</td>\n",
       "      <td>0.000000</td>\n",
       "      <td>0.000000</td>\n",
       "      <td>0.000000</td>\n",
       "      <td>0.000000</td>\n",
       "      <td>...</td>\n",
       "      <td>0.0</td>\n",
       "      <td>0.0</td>\n",
       "      <td>0.0</td>\n",
       "      <td>0.0</td>\n",
       "      <td>0.0</td>\n",
       "      <td>0.0</td>\n",
       "      <td>0.0</td>\n",
       "      <td>0.0</td>\n",
       "      <td>0.0</td>\n",
       "      <td>0.0</td>\n",
       "    </tr>\n",
       "    <tr>\n",
       "      <th>3</th>\n",
       "      <td>0.000000</td>\n",
       "      <td>0.0</td>\n",
       "      <td>0.0</td>\n",
       "      <td>0.0</td>\n",
       "      <td>0.000000</td>\n",
       "      <td>0.0</td>\n",
       "      <td>0.000000</td>\n",
       "      <td>0.000000</td>\n",
       "      <td>0.000000</td>\n",
       "      <td>0.000000</td>\n",
       "      <td>...</td>\n",
       "      <td>0.0</td>\n",
       "      <td>0.0</td>\n",
       "      <td>0.0</td>\n",
       "      <td>0.0</td>\n",
       "      <td>0.0</td>\n",
       "      <td>0.0</td>\n",
       "      <td>0.0</td>\n",
       "      <td>0.0</td>\n",
       "      <td>0.0</td>\n",
       "      <td>0.0</td>\n",
       "    </tr>\n",
       "    <tr>\n",
       "      <th>4</th>\n",
       "      <td>0.000000</td>\n",
       "      <td>0.0</td>\n",
       "      <td>0.0</td>\n",
       "      <td>0.0</td>\n",
       "      <td>0.000000</td>\n",
       "      <td>0.0</td>\n",
       "      <td>0.000000</td>\n",
       "      <td>0.000000</td>\n",
       "      <td>0.000000</td>\n",
       "      <td>0.000000</td>\n",
       "      <td>...</td>\n",
       "      <td>0.0</td>\n",
       "      <td>0.0</td>\n",
       "      <td>0.0</td>\n",
       "      <td>0.0</td>\n",
       "      <td>0.0</td>\n",
       "      <td>0.0</td>\n",
       "      <td>0.0</td>\n",
       "      <td>0.0</td>\n",
       "      <td>0.0</td>\n",
       "      <td>0.0</td>\n",
       "    </tr>\n",
       "    <tr>\n",
       "      <th>...</th>\n",
       "      <td>...</td>\n",
       "      <td>...</td>\n",
       "      <td>...</td>\n",
       "      <td>...</td>\n",
       "      <td>...</td>\n",
       "      <td>...</td>\n",
       "      <td>...</td>\n",
       "      <td>...</td>\n",
       "      <td>...</td>\n",
       "      <td>...</td>\n",
       "      <td>...</td>\n",
       "      <td>...</td>\n",
       "      <td>...</td>\n",
       "      <td>...</td>\n",
       "      <td>...</td>\n",
       "      <td>...</td>\n",
       "      <td>...</td>\n",
       "      <td>...</td>\n",
       "      <td>...</td>\n",
       "      <td>...</td>\n",
       "      <td>...</td>\n",
       "    </tr>\n",
       "    <tr>\n",
       "      <th>15235</th>\n",
       "      <td>0.000000</td>\n",
       "      <td>0.0</td>\n",
       "      <td>0.0</td>\n",
       "      <td>0.0</td>\n",
       "      <td>0.000000</td>\n",
       "      <td>0.0</td>\n",
       "      <td>0.000000</td>\n",
       "      <td>0.000000</td>\n",
       "      <td>0.000000</td>\n",
       "      <td>9.005388</td>\n",
       "      <td>...</td>\n",
       "      <td>0.0</td>\n",
       "      <td>0.0</td>\n",
       "      <td>0.0</td>\n",
       "      <td>0.0</td>\n",
       "      <td>0.0</td>\n",
       "      <td>0.0</td>\n",
       "      <td>0.0</td>\n",
       "      <td>0.0</td>\n",
       "      <td>0.0</td>\n",
       "      <td>0.0</td>\n",
       "    </tr>\n",
       "    <tr>\n",
       "      <th>15236</th>\n",
       "      <td>3.307914</td>\n",
       "      <td>0.0</td>\n",
       "      <td>0.0</td>\n",
       "      <td>0.0</td>\n",
       "      <td>0.000000</td>\n",
       "      <td>0.0</td>\n",
       "      <td>12.821707</td>\n",
       "      <td>0.000000</td>\n",
       "      <td>4.307385</td>\n",
       "      <td>0.000000</td>\n",
       "      <td>...</td>\n",
       "      <td>0.0</td>\n",
       "      <td>0.0</td>\n",
       "      <td>0.0</td>\n",
       "      <td>0.0</td>\n",
       "      <td>0.0</td>\n",
       "      <td>0.0</td>\n",
       "      <td>0.0</td>\n",
       "      <td>0.0</td>\n",
       "      <td>0.0</td>\n",
       "      <td>0.0</td>\n",
       "    </tr>\n",
       "    <tr>\n",
       "      <th>15237</th>\n",
       "      <td>0.000000</td>\n",
       "      <td>0.0</td>\n",
       "      <td>0.0</td>\n",
       "      <td>0.0</td>\n",
       "      <td>3.789061</td>\n",
       "      <td>0.0</td>\n",
       "      <td>0.000000</td>\n",
       "      <td>0.000000</td>\n",
       "      <td>0.000000</td>\n",
       "      <td>0.000000</td>\n",
       "      <td>...</td>\n",
       "      <td>0.0</td>\n",
       "      <td>0.0</td>\n",
       "      <td>0.0</td>\n",
       "      <td>0.0</td>\n",
       "      <td>0.0</td>\n",
       "      <td>0.0</td>\n",
       "      <td>0.0</td>\n",
       "      <td>0.0</td>\n",
       "      <td>0.0</td>\n",
       "      <td>0.0</td>\n",
       "    </tr>\n",
       "    <tr>\n",
       "      <th>15238</th>\n",
       "      <td>3.307914</td>\n",
       "      <td>0.0</td>\n",
       "      <td>0.0</td>\n",
       "      <td>0.0</td>\n",
       "      <td>0.000000</td>\n",
       "      <td>0.0</td>\n",
       "      <td>0.000000</td>\n",
       "      <td>4.215012</td>\n",
       "      <td>0.000000</td>\n",
       "      <td>9.005388</td>\n",
       "      <td>...</td>\n",
       "      <td>0.0</td>\n",
       "      <td>0.0</td>\n",
       "      <td>0.0</td>\n",
       "      <td>0.0</td>\n",
       "      <td>0.0</td>\n",
       "      <td>0.0</td>\n",
       "      <td>0.0</td>\n",
       "      <td>0.0</td>\n",
       "      <td>0.0</td>\n",
       "      <td>0.0</td>\n",
       "    </tr>\n",
       "    <tr>\n",
       "      <th>15239</th>\n",
       "      <td>0.000000</td>\n",
       "      <td>0.0</td>\n",
       "      <td>0.0</td>\n",
       "      <td>0.0</td>\n",
       "      <td>0.000000</td>\n",
       "      <td>0.0</td>\n",
       "      <td>0.000000</td>\n",
       "      <td>0.000000</td>\n",
       "      <td>0.000000</td>\n",
       "      <td>4.502694</td>\n",
       "      <td>...</td>\n",
       "      <td>0.0</td>\n",
       "      <td>0.0</td>\n",
       "      <td>0.0</td>\n",
       "      <td>0.0</td>\n",
       "      <td>0.0</td>\n",
       "      <td>0.0</td>\n",
       "      <td>0.0</td>\n",
       "      <td>0.0</td>\n",
       "      <td>0.0</td>\n",
       "      <td>0.0</td>\n",
       "    </tr>\n",
       "  </tbody>\n",
       "</table>\n",
       "<p>15240 rows × 50 columns</p>\n",
       "</div>"
      ],
      "text/plain": [
       "             사회   朝鮮   생활   사람        민족   自己         主義        사상        세계  \\\n",
       "0      0.000000  0.0  0.0  0.0  0.000000  0.0   0.000000  0.000000  0.000000   \n",
       "1      0.000000  0.0  0.0  0.0  0.000000  0.0   0.000000  0.000000  0.000000   \n",
       "2      0.000000  0.0  0.0  0.0  0.000000  0.0   0.000000  0.000000  0.000000   \n",
       "3      0.000000  0.0  0.0  0.0  0.000000  0.0   0.000000  0.000000  0.000000   \n",
       "4      0.000000  0.0  0.0  0.0  0.000000  0.0   0.000000  0.000000  0.000000   \n",
       "...         ...  ...  ...  ...       ...  ...        ...       ...       ...   \n",
       "15235  0.000000  0.0  0.0  0.0  0.000000  0.0   0.000000  0.000000  0.000000   \n",
       "15236  3.307914  0.0  0.0  0.0  0.000000  0.0  12.821707  0.000000  4.307385   \n",
       "15237  0.000000  0.0  0.0  0.0  3.789061  0.0   0.000000  0.000000  0.000000   \n",
       "15238  3.307914  0.0  0.0  0.0  0.000000  0.0   0.000000  4.215012  0.000000   \n",
       "15239  0.000000  0.0  0.0  0.0  0.000000  0.0   0.000000  0.000000  0.000000   \n",
       "\n",
       "             문화  ...   현상   현재   일본   국가   인생   過去   농업   발달   지식   방법  \n",
       "0      0.000000  ...  0.0  0.0  0.0  0.0  0.0  0.0  0.0  0.0  0.0  0.0  \n",
       "1      0.000000  ...  0.0  0.0  0.0  0.0  0.0  0.0  0.0  0.0  0.0  0.0  \n",
       "2      0.000000  ...  0.0  0.0  0.0  0.0  0.0  0.0  0.0  0.0  0.0  0.0  \n",
       "3      0.000000  ...  0.0  0.0  0.0  0.0  0.0  0.0  0.0  0.0  0.0  0.0  \n",
       "4      0.000000  ...  0.0  0.0  0.0  0.0  0.0  0.0  0.0  0.0  0.0  0.0  \n",
       "...         ...  ...  ...  ...  ...  ...  ...  ...  ...  ...  ...  ...  \n",
       "15235  9.005388  ...  0.0  0.0  0.0  0.0  0.0  0.0  0.0  0.0  0.0  0.0  \n",
       "15236  0.000000  ...  0.0  0.0  0.0  0.0  0.0  0.0  0.0  0.0  0.0  0.0  \n",
       "15237  0.000000  ...  0.0  0.0  0.0  0.0  0.0  0.0  0.0  0.0  0.0  0.0  \n",
       "15238  9.005388  ...  0.0  0.0  0.0  0.0  0.0  0.0  0.0  0.0  0.0  0.0  \n",
       "15239  4.502694  ...  0.0  0.0  0.0  0.0  0.0  0.0  0.0  0.0  0.0  0.0  \n",
       "\n",
       "[15240 rows x 50 columns]"
      ]
     },
     "execution_count": 24,
     "metadata": {},
     "output_type": "execute_result"
    }
   ],
   "source": [
    "# 1기 dtm 산출\n",
    "stopword = ['문제', '금일', '관계'] # 제외할 단어\n",
    "p1_dtm = gb_module.get_dtm(p1_gbdf, 'sent_split', stopword, 50)\n",
    "p1_dtm"
   ]
  },
  {
   "cell_type": "code",
   "execution_count": 27,
   "id": "9ea04ea0-5295-45f3-9058-2cb7ba887aa9",
   "metadata": {
    "tags": []
   },
   "outputs": [],
   "source": [
    "# 1기 단어간 유사도 행렬(matrix) 산출\n",
    "p1_tdm = p1_dtm.T\n",
    "p1_term_cossim = gb_module.get_cossim(p1_tdm)\n",
    "p1_term_cossim.to_csv('result/p1_term_cossim.txt', encoding='utf8', sep='\\t')"
   ]
  },
  {
   "cell_type": "markdown",
   "id": "47ae6138-6fb3-4deb-8b5f-32f82a9459ed",
   "metadata": {},
   "source": [
    "## 단어 유사도 행렬 변형\n",
    "- 간선 리스트(edge list) 형태로 변형"
   ]
  },
  {
   "cell_type": "code",
   "execution_count": 34,
   "id": "5af8b521-3d62-446b-a335-d2feae0c00e6",
   "metadata": {
    "tags": []
   },
   "outputs": [],
   "source": [
    "def matrix_to_edge(df):\n",
    "    '''\n",
    "    # 단어간 유사도 matrix 형식을 -> edge 형식으로 \n",
    "     (동일 단어 간 관계는 삭제: nc.exe 입력값에 맞게)\n",
    "    '''\n",
    "    # df : 특성 유사도 df\n",
    "    df1 = df.unstack().to_frame()\n",
    "    df1.columns = ['cossim']\n",
    "    hetero_index = [(m,n) for m, n in df1.index if (m != n)]\n",
    "    hetero_df = df1.loc[hetero_index]\n",
    "    return hetero_df"
   ]
  },
  {
   "cell_type": "code",
   "execution_count": 35,
   "id": "9ce40527-33df-4387-b9d6-b3a86967b236",
   "metadata": {
    "tags": []
   },
   "outputs": [],
   "source": [
    "# 1기 단어간 유사도 행렬을 간선 리스트(edge list) 형태로 변형\n",
    "p1_term_cossim_edged = matrix_to_edge(p1_term_cossim)\n",
    "p1_term_cossim_edged.to_csv('result/p1_term_cossim_edged.txt', encoding='utf8', header=False, sep='\\t')"
   ]
  },
  {
   "cell_type": "markdown",
   "id": "6da1080d-ce9d-40fd-be9f-0c41080fed78",
   "metadata": {},
   "source": [
    "# 시기별 가중 연결망 정보 (1기)"
   ]
  },
  {
   "cell_type": "code",
   "execution_count": 40,
   "id": "5f78628e-f0eb-4011-83cb-f55599d6c844",
   "metadata": {
    "tags": []
   },
   "outputs": [
    {
     "name": "stdout",
     "output_type": "stream",
     "text": [
      "---------------------------------------------------------\n",
      "WNET (Weighted Network analysis)\n",
      " - PFNet, PNNC, and Weighted Network Centralities (v.0.4,1)\n",
      "\t\t\t\tby J. Y. Lee\n",
      "---------------------------------------------------------\n",
      "\n"
     ]
    },
    {
     "name": "stdin",
     "output_type": "stream",
     "text": [
      "처리할 시기의 번호를 입력하세요:  1\n"
     ]
    },
    {
     "name": "stdout",
     "output_type": "stream",
     "text": [
      "\n",
      "... 50 X 50 size matrix is entered\n",
      "\n",
      "'result/p1_zPFNet-term_cossim.txt' is successfully generated.\n",
      "'result/p1_zPNNC-term_cossim.txt' is successfully generated.\n",
      "'result/p1_zWCENT-term_cossim.txt' is successfully generated.\n",
      "------------------------------------------------------\n",
      "nc - Neighbor Centrality Calculation Program (v.0.3)\n",
      "\t\t\t\tby J. Y. Lee\n",
      "------------------------------------------------------\n",
      "\n"
     ]
    },
    {
     "name": "stdin",
     "output_type": "stream",
     "text": [
      "처리할 시기의 번호를 입력하세요:  1\n"
     ]
    },
    {
     "name": "stdout",
     "output_type": "stream",
     "text": [
      "'result\\p1_zzNC_2.0-term_cossim_edged.txt' is successfully generated.\n"
     ]
    }
   ],
   "source": [
    "# [주피터노트북 외부] 명령어 실행 안내\n",
    "# input값에는 p1의 경우 \"1\"을 입력\n",
    "\n",
    "%run wnet.0.4.1_hs_1.py\n",
    "%run nc.0.4_hs_1.py"
   ]
  },
  {
   "cell_type": "markdown",
   "id": "7dd6512f-eb93-4c5f-8d42-2b3b4c433258",
   "metadata": {},
   "source": [
    "# 시기별 단어 간 관계 및 연결망 정보(2기, 3기)"
   ]
  },
  {
   "cell_type": "code",
   "execution_count": 64,
   "id": "b080bee1-a301-4bd1-a7e6-cc00cf486013",
   "metadata": {
    "tags": []
   },
   "outputs": [
    {
     "name": "stdout",
     "output_type": "stream",
     "text": [
      "(14522, 12)\n",
      "(4268, 12)\n"
     ]
    }
   ],
   "source": [
    "periods = ['p2', 'p3']\n",
    "prd_df = {}  # 결과를 저장할 딕셔너리\n",
    "\n",
    "for i in periods:\n",
    "    # 각 period에 대한 query 결과를 딕셔너리에 저장\n",
    "    prd_df[f\"{i}_gbdf\"] = gb_df.query('period == @i')\n",
    "    print(prd_df[f\"{i}_gbdf\"].shape)\n",
    "    \n",
    "    # 각 시기 dtm 산출\n",
    "    stopword = ['문제', '금일', '관계'] # 제외할 단어\n",
    "    prd_dtm = gb_module.get_dtm(prd_df[f\"{i}_gbdf\"], 'sent_split', stopword, 50)\n",
    "    prd_dtm\n",
    "    \n",
    "    # 각 시기 단어간 유사도 행렬(matrix) 산출\n",
    "    prd_tdm = prd_dtm.T\n",
    "    prd_term_cossim = gb_module.get_cossim(prd_tdm)\n",
    "    prd_term_cossim.to_csv(f'result/{i}_term_cossim.txt', encoding='utf8', sep='\\t')\n",
    "    \n",
    "    # 각 시기 단어간 유사도 행렬을 간선 리스트(edge list) 형태로 변형\n",
    "    prd_term_cossim_edged = matrix_to_edge(prd_term_cossim)\n",
    "    prd_term_cossim_edged.to_csv(f'result/{i}_term_cossim_edged.txt', encoding='utf8', header=False, sep='\\t')"
   ]
  },
  {
   "cell_type": "code",
   "execution_count": 63,
   "id": "ee8981df-2e47-413a-80aa-66346c462526",
   "metadata": {
    "tags": []
   },
   "outputs": [
    {
     "data": {
      "text/plain": [
       "34030"
      ]
     },
     "execution_count": 63,
     "metadata": {},
     "output_type": "execute_result"
    }
   ],
   "source": [
    "p1_gbdf.shape[0] +  prd_df['p2_gbdf'].shape[0] +  prd_df['p3_gbdf'].shape[0]"
   ]
  },
  {
   "cell_type": "code",
   "execution_count": 66,
   "id": "1c69ecd6-af92-4a4b-9394-260f13b17506",
   "metadata": {
    "tags": []
   },
   "outputs": [
    {
     "name": "stdout",
     "output_type": "stream",
     "text": [
      "---------------------------------------------------------\n",
      "WNET (Weighted Network analysis)\n",
      " - PFNet, PNNC, and Weighted Network Centralities (v.0.4,1)\n",
      "\t\t\t\tby J. Y. Lee\n",
      "---------------------------------------------------------\n",
      "\n"
     ]
    },
    {
     "name": "stdin",
     "output_type": "stream",
     "text": [
      "처리할 시기의 번호를 입력하세요:  3\n"
     ]
    },
    {
     "name": "stdout",
     "output_type": "stream",
     "text": [
      "\n",
      "... 50 X 50 size matrix is entered\n",
      "\n",
      "'result/p3_zPFNet-term_cossim.txt' is successfully generated.\n",
      "'result/p3_zPNNC-term_cossim.txt' is successfully generated.\n",
      "'result/p3_zWCENT-term_cossim.txt' is successfully generated.\n",
      "------------------------------------------------------\n",
      "nc - Neighbor Centrality Calculation Program (v.0.3)\n",
      "\t\t\t\tby J. Y. Lee\n",
      "------------------------------------------------------\n",
      "\n"
     ]
    },
    {
     "name": "stdin",
     "output_type": "stream",
     "text": [
      "처리할 시기의 번호를 입력하세요:  3\n"
     ]
    },
    {
     "name": "stdout",
     "output_type": "stream",
     "text": [
      "'result\\p3_zzNC_2.0-term_cossim_edged.txt' is successfully generated.\n"
     ]
    }
   ],
   "source": [
    "# [주피터노트북 외부] 명령어 실행 안내\n",
    "# input값에는 p1의 경우 \"1\"을 입력\n",
    "\n",
    "%run wnet.0.4.1_hs_1.py\n",
    "%run nc.0.4_hs_1.py"
   ]
  },
  {
   "cell_type": "markdown",
   "id": "72c11f42-8bab-453d-ba80-c61a9522bf2a",
   "metadata": {},
   "source": [
    "# 연결망 작성용 파일 생성(p1,p2,p3)"
   ]
  },
  {
   "cell_type": "code",
   "execution_count": 68,
   "id": "d7fa000c-11cc-4840-944c-1c40532fd9dd",
   "metadata": {
    "tags": []
   },
   "outputs": [
    {
     "name": "stdout",
     "output_type": "stream",
     "text": [
      "No duplicate rows found.\n",
      "No duplicate rows found.\n",
      "No duplicate rows found.\n"
     ]
    }
   ],
   "source": [
    "period_numbers = [1, 2, 3]\n",
    "\n",
    "for period_number in period_numbers:\n",
    "    # 2. 링크 유사도 등급화\n",
    "    lk_grade = pd.read_csv(f'result/p{period_number}_zPFNet-term_cossim.txt', sep='\\t', encoding='utf8')\n",
    "    lk_grade.columns = ['node1', 'node2', 'weight']\n",
    "    gb_module.remove_same_pairwords(lk_grade)\n",
    "    lk_graded = gb_module.transfer_to_grade(lk_grade, 'weight', 5)\n",
    "\n",
    "    # 3. 노드의 그룹 및 중심성 처리\n",
    "    gp_info = pd.read_csv(f'result/p{period_number}_zPNNC-term_cossim.txt', encoding='utf8', sep='\\t')\n",
    "    glob_ctrl = pd.read_csv(f'result/p{period_number}_zWCENT-term_cossim.txt', encoding='utf8', sep='\\t')\n",
    "    loca_ctrl = pd.read_csv(f'result/p{period_number}_zzNC_2.0-term_cossim_edged.txt', encoding='utf8', sep='\\t')\n",
    "    gp_ctrl = gb_module.get_gp_ctrl(gp_info, glob_ctrl, loca_ctrl)\n",
    "    node_attr_df, groups_df, group_vertices_df = gb_module.generate_node_attributes(lk_graded, gp_ctrl, 'weight', 5)\n",
    "\n",
    "    # 결과 저장\n",
    "    with pd.ExcelWriter(f'result/p{period_number}_results.xlsx') as writer:\n",
    "        lk_graded.to_excel(writer, sheet_name='Links')\n",
    "        node_attr_df.to_excel(writer, sheet_name='Node_Attributes')\n",
    "        groups_df.to_excel(writer, sheet_name='Groups') \n",
    "        group_vertices_df.to_excel(writer, sheet_name='Group_Vertices')"
   ]
  },
  {
   "cell_type": "markdown",
   "id": "6bd39e39-5e2f-431f-acfc-32d81cd716d9",
   "metadata": {},
   "source": [
    "# The End of Note"
   ]
  }
 ],
 "metadata": {
  "kernelspec": {
   "display_name": "Python 3 (ipykernel)",
   "language": "python",
   "name": "python3"
  },
  "language_info": {
   "codemirror_mode": {
    "name": "ipython",
    "version": 3
   },
   "file_extension": ".py",
   "mimetype": "text/x-python",
   "name": "python",
   "nbconvert_exporter": "python",
   "pygments_lexer": "ipython3",
   "version": "3.11.5"
  },
  "toc-autonumbering": true
 },
 "nbformat": 4,
 "nbformat_minor": 5
}
