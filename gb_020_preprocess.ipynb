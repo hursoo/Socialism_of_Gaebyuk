{
 "cells": [
  {
   "cell_type": "markdown",
   "metadata": {
    "id": "L_oBPo1Kk-w9"
   },
   "source": [
    "# 1_환경 설정\n",
    "- 필요한 라이브러리 로드 (pandas, numpy, os, re)  \n",
    "- 구글 드라이브 연동 (구글 코랩에서 데이터 파일에 접근하기 위함)  "
   ]
  },
  {
   "cell_type": "code",
   "execution_count": 1,
   "metadata": {
    "id": "W-wDLirelGIz",
    "tags": []
   },
   "outputs": [],
   "source": [
    "import pandas as pd\n",
    "import numpy as np\n",
    "import os\n",
    "import sys\n",
    "import re"
   ]
  },
  {
   "cell_type": "markdown",
   "metadata": {
    "id": "fFIYDYOklkHx"
   },
   "source": [
    "# 2_데이터 불러오기"
   ]
  },
  {
   "cell_type": "code",
   "execution_count": 5,
   "metadata": {
    "id": "e5UE5jf5lN2o",
    "tags": []
   },
   "outputs": [],
   "source": [
    "# 설정된 경로에서 엑셀 파일 불러오기\n",
    "rawdata = 'data/A1_raw5.xlsx'"
   ]
  },
  {
   "cell_type": "code",
   "execution_count": 6,
   "metadata": {
    "id": "-2RuhQrhlNzg",
    "tags": []
   },
   "outputs": [
    {
     "name": "stdout",
     "output_type": "stream",
     "text": [
      "(5, 8)\n",
      "(5, 8)\n"
     ]
    },
    {
     "data": {
      "text/html": [
       "<div>\n",
       "<style scoped>\n",
       "    .dataframe tbody tr th:only-of-type {\n",
       "        vertical-align: middle;\n",
       "    }\n",
       "\n",
       "    .dataframe tbody tr th {\n",
       "        vertical-align: top;\n",
       "    }\n",
       "\n",
       "    .dataframe thead th {\n",
       "        text-align: right;\n",
       "    }\n",
       "</style>\n",
       "<table border=\"1\" class=\"dataframe\">\n",
       "  <thead>\n",
       "    <tr style=\"text-align: right;\">\n",
       "      <th></th>\n",
       "      <th>자료ID</th>\n",
       "      <th>제목</th>\n",
       "      <th>저자</th>\n",
       "      <th>주제</th>\n",
       "      <th>발행일</th>\n",
       "      <th>URL</th>\n",
       "      <th>year</th>\n",
       "      <th>Content</th>\n",
       "    </tr>\n",
       "  </thead>\n",
       "  <tbody>\n",
       "    <tr>\n",
       "      <th>0</th>\n",
       "      <td>ma_013_0010_0001</td>\n",
       "      <td>謝告</td>\n",
       "      <td>NaN</td>\n",
       "      <td>사고·편집후기</td>\n",
       "      <td>1920-06-25</td>\n",
       "      <td>http://db.history.go.kr/id/ma_013_0010_0001</td>\n",
       "      <td>1920</td>\n",
       "      <td>謝告\\n本 開闢 創刊號 中力萬能主義의 題末에 「금쌀악, 옥가루」와 檀君神話의 末段 ...</td>\n",
       "    </tr>\n",
       "    <tr>\n",
       "      <th>1</th>\n",
       "      <td>ma_013_0010_0010</td>\n",
       "      <td>권두시</td>\n",
       "      <td>NaN</td>\n",
       "      <td>시</td>\n",
       "      <td>1920-06-25</td>\n",
       "      <td>http://db.history.go.kr/id/ma_013_0010_0010</td>\n",
       "      <td>1920</td>\n",
       "      <td>아- 風雲! 아- 霹靂!!\\n모래가 날리며 돍이 닷도다.\\n나무가 부러지며 풀이 쓸...</td>\n",
       "    </tr>\n",
       "    <tr>\n",
       "      <th>2</th>\n",
       "      <td>ma_013_0010_0020</td>\n",
       "      <td>創刊辭</td>\n",
       "      <td>NaN</td>\n",
       "      <td>사고·편집후기</td>\n",
       "      <td>1920-06-25</td>\n",
       "      <td>http://db.history.go.kr/id/ma_013_0010_0020</td>\n",
       "      <td>1920</td>\n",
       "      <td>創刊辭\\n소리-있어 넓히 世界에 傳하니 온 世界 모든 人類-이에 應하야 부르짖기를 ...</td>\n",
       "    </tr>\n",
       "  </tbody>\n",
       "</table>\n",
       "</div>"
      ],
      "text/plain": [
       "               자료ID   제목   저자       주제         발행일  \\\n",
       "0  ma_013_0010_0001   謝告  NaN  사고·편집후기  1920-06-25   \n",
       "1  ma_013_0010_0010  권두시  NaN        시  1920-06-25   \n",
       "2  ma_013_0010_0020  創刊辭  NaN  사고·편집후기  1920-06-25   \n",
       "\n",
       "                                           URL  year  \\\n",
       "0  http://db.history.go.kr/id/ma_013_0010_0001  1920   \n",
       "1  http://db.history.go.kr/id/ma_013_0010_0010  1920   \n",
       "2  http://db.history.go.kr/id/ma_013_0010_0020  1920   \n",
       "\n",
       "                                             Content  \n",
       "0  謝告\\n本 開闢 創刊號 中力萬能主義의 題末에 「금쌀악, 옥가루」와 檀君神話의 末段 ...  \n",
       "1  아- 風雲! 아- 霹靂!!\\n모래가 날리며 돍이 닷도다.\\n나무가 부러지며 풀이 쓸...  \n",
       "2  創刊辭\\n소리-있어 넓히 世界에 傳하니 온 世界 모든 人類-이에 應하야 부르짖기를 ...  "
      ]
     },
     "execution_count": 6,
     "metadata": {},
     "output_type": "execute_result"
    }
   ],
   "source": [
    "# 데이터 불러오기\n",
    "\n",
    "df = pd.read_excel(rawdata)\n",
    "print(df.shape)\n",
    "\n",
    "df1 = df[:30] # 기사 30개만 샘플로\n",
    "print(df1.shape)\n",
    "df1[:3]"
   ]
  },
  {
   "cell_type": "markdown",
   "metadata": {
    "id": "5Fak0VolnO-5"
   },
   "source": [
    "# 3_기사를 문장별로 분리"
   ]
  },
  {
   "cell_type": "code",
   "execution_count": 7,
   "metadata": {
    "id": "8ibc_cdol4rh",
    "tags": []
   },
   "outputs": [],
   "source": [
    "# 기사를 문장별로 분리하는 사용자 함수\n",
    "separators = ['\\n', '.', '!', '?'] # 엔터 및 문장 종결 부호\n",
    "\n",
    "def split_content_by_separators(content, separators):\n",
    "    \"\"\"Splits content based on the given separators.\"\"\"\n",
    "    escaped_separators = [re.escape(sep) for sep in separators]  # separators = 구분자들\n",
    "    return re.split('|'.join(escaped_separators), content)"
   ]
  },
  {
   "cell_type": "code",
   "execution_count": 8,
   "metadata": {
    "id": "eT2Wq0Ocl4oZ",
    "tags": []
   },
   "outputs": [
    {
     "name": "stdout",
     "output_type": "stream",
     "text": [
      "(320, 2)\n"
     ]
    },
    {
     "data": {
      "text/html": [
       "<div>\n",
       "<style scoped>\n",
       "    .dataframe tbody tr th:only-of-type {\n",
       "        vertical-align: middle;\n",
       "    }\n",
       "\n",
       "    .dataframe tbody tr th {\n",
       "        vertical-align: top;\n",
       "    }\n",
       "\n",
       "    .dataframe thead th {\n",
       "        text-align: right;\n",
       "    }\n",
       "</style>\n",
       "<table border=\"1\" class=\"dataframe\">\n",
       "  <thead>\n",
       "    <tr style=\"text-align: right;\">\n",
       "      <th></th>\n",
       "      <th>자료ID</th>\n",
       "      <th>Content</th>\n",
       "    </tr>\n",
       "  </thead>\n",
       "  <tbody>\n",
       "    <tr>\n",
       "      <th>0</th>\n",
       "      <td>ma_013_0010_0001</td>\n",
       "      <td>謝告</td>\n",
       "    </tr>\n",
       "    <tr>\n",
       "      <th>0</th>\n",
       "      <td>ma_013_0010_0001</td>\n",
       "      <td>本 開闢 創刊號 中力萬能主義의 題末에 「금쌀악, 옥가루」와 檀君神話의 末段 二行과 ...</td>\n",
       "    </tr>\n",
       "    <tr>\n",
       "      <th>0</th>\n",
       "      <td>ma_013_0010_0001</td>\n",
       "      <td></td>\n",
       "    </tr>\n",
       "    <tr>\n",
       "      <th>0</th>\n",
       "      <td>ma_013_0010_0001</td>\n",
       "      <td>開闢編輯室</td>\n",
       "    </tr>\n",
       "    <tr>\n",
       "      <th>0</th>\n",
       "      <td>ma_013_0010_0001</td>\n",
       "      <td>正誤</td>\n",
       "    </tr>\n",
       "    <tr>\n",
       "      <th>...</th>\n",
       "      <td>...</td>\n",
       "      <td>...</td>\n",
       "    </tr>\n",
       "    <tr>\n",
       "      <th>4</th>\n",
       "      <td>ma_013_0010_0040</td>\n",
       "      <td>故로 老年이 靑年을 蔑視하는 一事는 오로지 輕佻浮薄을 問題로 삼는 바라</td>\n",
       "    </tr>\n",
       "    <tr>\n",
       "      <th>4</th>\n",
       "      <td>ma_013_0010_0040</td>\n",
       "      <td>故로 靑年된 者-이 點에서 自重自愼하야 勇斷이 잇서도 輕擧에 失치 안이하도록 經驗...</td>\n",
       "    </tr>\n",
       "    <tr>\n",
       "      <th>4</th>\n",
       "      <td>ma_013_0010_0040</td>\n",
       "      <td></td>\n",
       "    </tr>\n",
       "    <tr>\n",
       "      <th>4</th>\n",
       "      <td>ma_013_0010_0040</td>\n",
       "      <td>吾人은 어대까지든지 各地 靑年會의 勃興을 歡迎하며 그리하야 그의 自覺이 잇기를 바라...</td>\n",
       "    </tr>\n",
       "    <tr>\n",
       "      <th>4</th>\n",
       "      <td>ma_013_0010_0040</td>\n",
       "      <td>＜14-20＞</td>\n",
       "    </tr>\n",
       "  </tbody>\n",
       "</table>\n",
       "<p>320 rows × 2 columns</p>\n",
       "</div>"
      ],
      "text/plain": [
       "                자료ID                                            Content\n",
       "0   ma_013_0010_0001                                                 謝告\n",
       "0   ma_013_0010_0001  本 開闢 創刊號 中力萬能主義의 題末에 「금쌀악, 옥가루」와 檀君神話의 末段 二行과 ...\n",
       "0   ma_013_0010_0001                                                   \n",
       "0   ma_013_0010_0001                                              開闢編輯室\n",
       "0   ma_013_0010_0001                                                 正誤\n",
       "..               ...                                                ...\n",
       "4   ma_013_0010_0040            故로 老年이 靑年을 蔑視하는 一事는 오로지 輕佻浮薄을 問題로 삼는 바라\n",
       "4   ma_013_0010_0040   故로 靑年된 者-이 點에서 自重自愼하야 勇斷이 잇서도 輕擧에 失치 안이하도록 經驗...\n",
       "4   ma_013_0010_0040                                                   \n",
       "4   ma_013_0010_0040  吾人은 어대까지든지 各地 靑年會의 勃興을 歡迎하며 그리하야 그의 自覺이 잇기를 바라...\n",
       "4   ma_013_0010_0040                                            ＜14-20＞\n",
       "\n",
       "[320 rows x 2 columns]"
      ]
     },
     "execution_count": 8,
     "metadata": {},
     "output_type": "execute_result"
    }
   ],
   "source": [
    "# 사용자 함수 적용하여 문장별로 분리하여 행으로 재구성\n",
    "\n",
    "new_df = df1.apply(lambda row: pd.Series(split_content_by_separators(row['Content'], separators)), axis=1) \\\n",
    "            .stack() \\\n",
    "            .reset_index(level=1, drop=True) \\\n",
    "            .to_frame(name='Content') \\\n",
    "            .join(df1[['자료ID']], how='left')\n",
    "\n",
    "new_df = new_df[['자료ID', 'Content']]\n",
    "print(new_df.shape)\n",
    "new_df"
   ]
  },
  {
   "cell_type": "code",
   "execution_count": 9,
   "metadata": {
    "id": "tz14MMCWmOM4",
    "tags": []
   },
   "outputs": [
    {
     "data": {
      "text/html": [
       "<div>\n",
       "<style scoped>\n",
       "    .dataframe tbody tr th:only-of-type {\n",
       "        vertical-align: middle;\n",
       "    }\n",
       "\n",
       "    .dataframe tbody tr th {\n",
       "        vertical-align: top;\n",
       "    }\n",
       "\n",
       "    .dataframe thead th {\n",
       "        text-align: right;\n",
       "    }\n",
       "</style>\n",
       "<table border=\"1\" class=\"dataframe\">\n",
       "  <thead>\n",
       "    <tr style=\"text-align: right;\">\n",
       "      <th></th>\n",
       "      <th>sent_id</th>\n",
       "      <th>자료ID</th>\n",
       "      <th>Content</th>\n",
       "    </tr>\n",
       "  </thead>\n",
       "  <tbody>\n",
       "    <tr>\n",
       "      <th>0</th>\n",
       "      <td>1</td>\n",
       "      <td>ma_013_0010_0001</td>\n",
       "      <td>謝告</td>\n",
       "    </tr>\n",
       "    <tr>\n",
       "      <th>1</th>\n",
       "      <td>2</td>\n",
       "      <td>ma_013_0010_0001</td>\n",
       "      <td>本 開闢 創刊號 中力萬能主義의 題末에 「금쌀악, 옥가루」와 檀君神話의 末段 二行과 ...</td>\n",
       "    </tr>\n",
       "    <tr>\n",
       "      <th>2</th>\n",
       "      <td>3</td>\n",
       "      <td>ma_013_0010_0001</td>\n",
       "      <td></td>\n",
       "    </tr>\n",
       "    <tr>\n",
       "      <th>3</th>\n",
       "      <td>4</td>\n",
       "      <td>ma_013_0010_0001</td>\n",
       "      <td>開闢編輯室</td>\n",
       "    </tr>\n",
       "    <tr>\n",
       "      <th>4</th>\n",
       "      <td>5</td>\n",
       "      <td>ma_013_0010_0001</td>\n",
       "      <td>正誤</td>\n",
       "    </tr>\n",
       "    <tr>\n",
       "      <th>...</th>\n",
       "      <td>...</td>\n",
       "      <td>...</td>\n",
       "      <td>...</td>\n",
       "    </tr>\n",
       "    <tr>\n",
       "      <th>315</th>\n",
       "      <td>316</td>\n",
       "      <td>ma_013_0010_0040</td>\n",
       "      <td>故로 老年이 靑年을 蔑視하는 一事는 오로지 輕佻浮薄을 問題로 삼는 바라</td>\n",
       "    </tr>\n",
       "    <tr>\n",
       "      <th>316</th>\n",
       "      <td>317</td>\n",
       "      <td>ma_013_0010_0040</td>\n",
       "      <td>故로 靑年된 者-이 點에서 自重自愼하야 勇斷이 잇서도 輕擧에 失치 안이하도록 經驗...</td>\n",
       "    </tr>\n",
       "    <tr>\n",
       "      <th>317</th>\n",
       "      <td>318</td>\n",
       "      <td>ma_013_0010_0040</td>\n",
       "      <td></td>\n",
       "    </tr>\n",
       "    <tr>\n",
       "      <th>318</th>\n",
       "      <td>319</td>\n",
       "      <td>ma_013_0010_0040</td>\n",
       "      <td>吾人은 어대까지든지 各地 靑年會의 勃興을 歡迎하며 그리하야 그의 自覺이 잇기를 바라...</td>\n",
       "    </tr>\n",
       "    <tr>\n",
       "      <th>319</th>\n",
       "      <td>320</td>\n",
       "      <td>ma_013_0010_0040</td>\n",
       "      <td>＜14-20＞</td>\n",
       "    </tr>\n",
       "  </tbody>\n",
       "</table>\n",
       "<p>320 rows × 3 columns</p>\n",
       "</div>"
      ],
      "text/plain": [
       "     sent_id              자료ID  \\\n",
       "0          1  ma_013_0010_0001   \n",
       "1          2  ma_013_0010_0001   \n",
       "2          3  ma_013_0010_0001   \n",
       "3          4  ma_013_0010_0001   \n",
       "4          5  ma_013_0010_0001   \n",
       "..       ...               ...   \n",
       "315      316  ma_013_0010_0040   \n",
       "316      317  ma_013_0010_0040   \n",
       "317      318  ma_013_0010_0040   \n",
       "318      319  ma_013_0010_0040   \n",
       "319      320  ma_013_0010_0040   \n",
       "\n",
       "                                               Content  \n",
       "0                                                   謝告  \n",
       "1    本 開闢 創刊號 中力萬能主義의 題末에 「금쌀악, 옥가루」와 檀君神話의 末段 二行과 ...  \n",
       "2                                                       \n",
       "3                                                開闢編輯室  \n",
       "4                                                   正誤  \n",
       "..                                                 ...  \n",
       "315            故로 老年이 靑年을 蔑視하는 一事는 오로지 輕佻浮薄을 問題로 삼는 바라  \n",
       "316   故로 靑年된 者-이 點에서 自重自愼하야 勇斷이 잇서도 輕擧에 失치 안이하도록 經驗...  \n",
       "317                                                     \n",
       "318  吾人은 어대까지든지 各地 靑年會의 勃興을 歡迎하며 그리하야 그의 自覺이 잇기를 바라...  \n",
       "319                                            ＜14-20＞  \n",
       "\n",
       "[320 rows x 3 columns]"
      ]
     },
     "execution_count": 9,
     "metadata": {},
     "output_type": "execute_result"
    }
   ],
   "source": [
    "# 문장별 id 생성 ##### 중요 !!\n",
    "new_sent_df = new_df.reset_index(drop=True)\n",
    "new_sent_df['sent_id'] = new_sent_df.index + 1\n",
    "new_sent_df = new_sent_df[['sent_id', '자료ID', 'Content']]\n",
    "new_sent_df"
   ]
  },
  {
   "cell_type": "markdown",
   "metadata": {
    "id": "erGqiALOnprZ"
   },
   "source": [
    "# 4_형태소 분석\n",
    "- 제목: 형태소 분석기 적용\n",
    "- kiwi 형태소 분석기로 텍스트 데이터 분석\n",
    "- 한국어 형태소 분석기(kiwi)에서 제공하는 서브워드(subword) 학습 함수를 활용해 1920~40년에 출간된 조선/동아일보 약 190만건의 기사를 학습 후 만든 근대 한국어 토크나이저.\n",
    "https://github.com/ByungjunKim/ModernKoreanSubword\n",
    "- cf) 유튜브 동영상 https://www.youtube.com/watch?v=5VmKXYwnYeQ\n"
   ]
  },
  {
   "cell_type": "markdown",
   "metadata": {
    "id": "ss1zIGymofkH"
   },
   "source": [
    "## kiwi 설치"
   ]
  },
  {
   "cell_type": "code",
   "execution_count": 10,
   "metadata": {
    "id": "r8NVSxRhmO16",
    "tags": []
   },
   "outputs": [
    {
     "name": "stdout",
     "output_type": "stream",
     "text": [
      "Requirement already satisfied: kiwipiepy in c:\\users\\creta\\anaconda3\\lib\\site-packages (0.16.2)\n",
      "Requirement already satisfied: kiwipiepy-model~=0.16 in c:\\users\\creta\\anaconda3\\lib\\site-packages (from kiwipiepy) (0.16.0)\n",
      "Requirement already satisfied: numpy in c:\\users\\creta\\anaconda3\\lib\\site-packages (from kiwipiepy) (1.24.3)\n",
      "Requirement already satisfied: tqdm in c:\\users\\creta\\anaconda3\\lib\\site-packages (from kiwipiepy) (4.65.0)\n",
      "Requirement already satisfied: colorama in c:\\users\\creta\\anaconda3\\lib\\site-packages (from tqdm->kiwipiepy) (0.4.6)\n"
     ]
    }
   ],
   "source": [
    "# kiwi 설치\n",
    "!pip install -U kiwipiepy"
   ]
  },
  {
   "cell_type": "code",
   "execution_count": 11,
   "metadata": {
    "id": "imUyXqrqmOyo",
    "tags": []
   },
   "outputs": [
    {
     "name": "stderr",
     "output_type": "stream",
     "text": [
      "fatal: destination path 'ModernKoreanSubword' already exists and is not an empty directory.\n"
     ]
    }
   ],
   "source": [
    "# 서브워드 토크나이저 json 파일 다운로드\n",
    "!git clone https://github.com/ByungjunKim/ModernKoreanSubword"
   ]
  },
  {
   "cell_type": "code",
   "execution_count": 12,
   "metadata": {
    "id": "ySd6kKgdn9Zw",
    "tags": []
   },
   "outputs": [],
   "source": [
    "# kiwi 로드\n",
    "from kiwipiepy import Kiwi\n",
    "kiwi = Kiwi()\n",
    "from kiwipiepy.sw_tokenizer import SwTokenizer\n",
    "\n",
    "# 토크나이저 설정\n",
    "tokenizer = SwTokenizer('./ModernKoreanSubword/ModernKoreanSubword.json', kiwi=kiwi)"
   ]
  },
  {
   "cell_type": "markdown",
   "metadata": {
    "id": "j82IlqJeoi_Q"
   },
   "source": [
    "## 형태소 분석 함수 작성"
   ]
  },
  {
   "cell_type": "code",
   "execution_count": 13,
   "metadata": {
    "id": "ptQCqV3to01A",
    "tags": []
   },
   "outputs": [],
   "source": [
    "# 1음절 한자 이어질 때 두 개를 합해 줌\n",
    "\n",
    "def is_hanja(ch):\n",
    "    # 한자의 범위는 U+4E00 부터 U+9FFF 입니다.\n",
    "    return '\\u4e00' <= ch <= '\\u9fff'\n",
    "\n",
    "def combine_one_hanja(lst):\n",
    "    result = []\n",
    "    i = 0\n",
    "    while i < len(lst):\n",
    "        if (len(lst[i]) == 1 and i + 1 < len(lst) and len(lst[i + 1]) == 1 and\n",
    "        is_hanja(lst[i]) and is_hanja(lst[i + 1])):\n",
    "            result.append(lst[i] + lst[i + 1])\n",
    "            i += 2\n",
    "        else:\n",
    "            result.append(lst[i])\n",
    "            i += 1\n",
    "    return result"
   ]
  },
  {
   "cell_type": "code",
   "execution_count": 14,
   "metadata": {
    "id": "Pb607G0YpIek",
    "tags": []
   },
   "outputs": [],
   "source": [
    "# 영어, 숫자, 특정 부호 등 제외하기\n",
    "\n",
    "def filter_elements(lst):\n",
    "    # 영어, 숫자 및 '<' 문자만을 허용하는 정규식 패턴\n",
    "    pattern = re.compile(r'^[a-zA-Z0-9<＞「」]+$')\n",
    "\n",
    "    # 해당 패턴과 일치하지 않는 문자열만을 반환하는 필터링 함수\n",
    "    return list(filter(lambda x: not pattern.match(x), lst))"
   ]
  },
  {
   "cell_type": "code",
   "execution_count": 15,
   "metadata": {
    "id": "oHeJfA_RoVd5",
    "tags": []
   },
   "outputs": [],
   "source": [
    "# 본격 형태소 분석\n",
    "\n",
    "import string\n",
    "def do_morph(sent):\n",
    "    # 토큰나이징 결과 확인 (subword + 한국어 형태소)\n",
    "    vocab_list = tokenizer.encode(sent)\n",
    "    result01 = [tokenizer.id2vocab[i].replace('#', '') for i in vocab_list if '/' not in tokenizer.id2vocab[i]]\n",
    "    result01 = [''.join([char for char in word if char not in string.punctuation]) for word in result01]\n",
    "    result01 = [word for word in result01 if len(word) > 0] # 공백 제외\n",
    "    result01 = combine_one_hanja(result01) # 연속되는 1음절 한자 합침 (사용자 함수)\n",
    "    result01 = filter_elements(result01) # 영어, 숫자, 특정부호 제외 (사용자 함수)\n",
    "\n",
    "    return result01"
   ]
  },
  {
   "cell_type": "markdown",
   "metadata": {
    "id": "ohMe_LhOx54o"
   },
   "source": [
    "## 형태소 분석 및 정리 정돈"
   ]
  },
  {
   "cell_type": "code",
   "execution_count": 16,
   "metadata": {
    "id": "wAtE8rSZqjPY",
    "tags": []
   },
   "outputs": [
    {
     "data": {
      "text/html": [
       "<div>\n",
       "<style scoped>\n",
       "    .dataframe tbody tr th:only-of-type {\n",
       "        vertical-align: middle;\n",
       "    }\n",
       "\n",
       "    .dataframe tbody tr th {\n",
       "        vertical-align: top;\n",
       "    }\n",
       "\n",
       "    .dataframe thead th {\n",
       "        text-align: right;\n",
       "    }\n",
       "</style>\n",
       "<table border=\"1\" class=\"dataframe\">\n",
       "  <thead>\n",
       "    <tr style=\"text-align: right;\">\n",
       "      <th></th>\n",
       "      <th>sent_id</th>\n",
       "      <th>자료ID</th>\n",
       "      <th>Content</th>\n",
       "    </tr>\n",
       "  </thead>\n",
       "  <tbody>\n",
       "    <tr>\n",
       "      <th>0</th>\n",
       "      <td>1</td>\n",
       "      <td>ma_013_0010_0001</td>\n",
       "      <td>謝告</td>\n",
       "    </tr>\n",
       "    <tr>\n",
       "      <th>1</th>\n",
       "      <td>2</td>\n",
       "      <td>ma_013_0010_0001</td>\n",
       "      <td>本 開闢 創刊號 中力萬能主義의 題末에 「금쌀악, 옥가루」와 檀君神話의 末段 二行과 ...</td>\n",
       "    </tr>\n",
       "    <tr>\n",
       "      <th>2</th>\n",
       "      <td>3</td>\n",
       "      <td>ma_013_0010_0001</td>\n",
       "      <td></td>\n",
       "    </tr>\n",
       "  </tbody>\n",
       "</table>\n",
       "</div>"
      ],
      "text/plain": [
       "   sent_id              자료ID  \\\n",
       "0        1  ma_013_0010_0001   \n",
       "1        2  ma_013_0010_0001   \n",
       "2        3  ma_013_0010_0001   \n",
       "\n",
       "                                             Content  \n",
       "0                                                 謝告  \n",
       "1  本 開闢 創刊號 中力萬能主義의 題末에 「금쌀악, 옥가루」와 檀君神話의 末段 二行과 ...  \n",
       "2                                                     "
      ]
     },
     "execution_count": 16,
     "metadata": {},
     "output_type": "execute_result"
    }
   ],
   "source": [
    "new_sent_df[:3]"
   ]
  },
  {
   "cell_type": "code",
   "execution_count": 17,
   "metadata": {
    "id": "S86OXIoQoVgp",
    "tags": []
   },
   "outputs": [
    {
     "data": {
      "text/html": [
       "<div>\n",
       "<style scoped>\n",
       "    .dataframe tbody tr th:only-of-type {\n",
       "        vertical-align: middle;\n",
       "    }\n",
       "\n",
       "    .dataframe tbody tr th {\n",
       "        vertical-align: top;\n",
       "    }\n",
       "\n",
       "    .dataframe thead th {\n",
       "        text-align: right;\n",
       "    }\n",
       "</style>\n",
       "<table border=\"1\" class=\"dataframe\">\n",
       "  <thead>\n",
       "    <tr style=\"text-align: right;\">\n",
       "      <th></th>\n",
       "      <th>sent_id</th>\n",
       "      <th>자료ID</th>\n",
       "      <th>Content</th>\n",
       "      <th>tokens</th>\n",
       "    </tr>\n",
       "  </thead>\n",
       "  <tbody>\n",
       "    <tr>\n",
       "      <th>0</th>\n",
       "      <td>1</td>\n",
       "      <td>ma_013_0010_0001</td>\n",
       "      <td>謝告</td>\n",
       "      <td>[謝告]</td>\n",
       "    </tr>\n",
       "    <tr>\n",
       "      <th>1</th>\n",
       "      <td>2</td>\n",
       "      <td>ma_013_0010_0001</td>\n",
       "      <td>本 開闢 創刊號 中力萬能主義의 題末에 「금쌀악, 옥가루」와 檀君神話의 末段 二行과 ...</td>\n",
       "      <td>[本, 開闢, 創刊, 號中, 力, 萬能, 主義, 題末, 금, 쌀, 악, 옥, 가루,...</td>\n",
       "    </tr>\n",
       "    <tr>\n",
       "      <th>2</th>\n",
       "      <td>3</td>\n",
       "      <td>ma_013_0010_0001</td>\n",
       "      <td></td>\n",
       "      <td>[]</td>\n",
       "    </tr>\n",
       "    <tr>\n",
       "      <th>3</th>\n",
       "      <td>4</td>\n",
       "      <td>ma_013_0010_0001</td>\n",
       "      <td>開闢編輯室</td>\n",
       "      <td>[開闢, 編輯, 室]</td>\n",
       "    </tr>\n",
       "    <tr>\n",
       "      <th>4</th>\n",
       "      <td>5</td>\n",
       "      <td>ma_013_0010_0001</td>\n",
       "      <td>正誤</td>\n",
       "      <td>[正誤]</td>\n",
       "    </tr>\n",
       "    <tr>\n",
       "      <th>...</th>\n",
       "      <td>...</td>\n",
       "      <td>...</td>\n",
       "      <td>...</td>\n",
       "      <td>...</td>\n",
       "    </tr>\n",
       "    <tr>\n",
       "      <th>315</th>\n",
       "      <td>316</td>\n",
       "      <td>ma_013_0010_0040</td>\n",
       "      <td>故로 老年이 靑年을 蔑視하는 一事는 오로지 輕佻浮薄을 問題로 삼는 바라</td>\n",
       "      <td>[故老, 年, 靑年, 蔑視, 一事, 오로지, 輕佻, 浮薄, 問題, 바]</td>\n",
       "    </tr>\n",
       "    <tr>\n",
       "      <th>316</th>\n",
       "      <td>317</td>\n",
       "      <td>ma_013_0010_0040</td>\n",
       "      <td>故로 靑年된 者-이 點에서 自重自愼하야 勇斷이 잇서도 輕擧에 失치 안이하도록 經驗...</td>\n",
       "      <td>[故, 靑年, 者, 이, 點, 自重, 自愼, 勇斷, 잇서, 도, 輕擧, 失, 經驗,...</td>\n",
       "    </tr>\n",
       "    <tr>\n",
       "      <th>317</th>\n",
       "      <td>318</td>\n",
       "      <td>ma_013_0010_0040</td>\n",
       "      <td></td>\n",
       "      <td>[]</td>\n",
       "    </tr>\n",
       "    <tr>\n",
       "      <th>318</th>\n",
       "      <td>319</td>\n",
       "      <td>ma_013_0010_0040</td>\n",
       "      <td>吾人은 어대까지든지 各地 靑年會의 勃興을 歡迎하며 그리하야 그의 自覺이 잇기를 바라...</td>\n",
       "      <td>[吾人, 어대, 各地, 靑年會, 勃興, 歡迎, 그리, 그, 自覺, 前進, 事業, 好...</td>\n",
       "    </tr>\n",
       "    <tr>\n",
       "      <th>319</th>\n",
       "      <td>320</td>\n",
       "      <td>ma_013_0010_0040</td>\n",
       "      <td>＜14-20＞</td>\n",
       "      <td>[]</td>\n",
       "    </tr>\n",
       "  </tbody>\n",
       "</table>\n",
       "<p>320 rows × 4 columns</p>\n",
       "</div>"
      ],
      "text/plain": [
       "     sent_id              자료ID  \\\n",
       "0          1  ma_013_0010_0001   \n",
       "1          2  ma_013_0010_0001   \n",
       "2          3  ma_013_0010_0001   \n",
       "3          4  ma_013_0010_0001   \n",
       "4          5  ma_013_0010_0001   \n",
       "..       ...               ...   \n",
       "315      316  ma_013_0010_0040   \n",
       "316      317  ma_013_0010_0040   \n",
       "317      318  ma_013_0010_0040   \n",
       "318      319  ma_013_0010_0040   \n",
       "319      320  ma_013_0010_0040   \n",
       "\n",
       "                                               Content  \\\n",
       "0                                                   謝告   \n",
       "1    本 開闢 創刊號 中力萬能主義의 題末에 「금쌀악, 옥가루」와 檀君神話의 末段 二行과 ...   \n",
       "2                                                        \n",
       "3                                                開闢編輯室   \n",
       "4                                                   正誤   \n",
       "..                                                 ...   \n",
       "315            故로 老年이 靑年을 蔑視하는 一事는 오로지 輕佻浮薄을 問題로 삼는 바라   \n",
       "316   故로 靑年된 者-이 點에서 自重自愼하야 勇斷이 잇서도 輕擧에 失치 안이하도록 經驗...   \n",
       "317                                                      \n",
       "318  吾人은 어대까지든지 各地 靑年會의 勃興을 歡迎하며 그리하야 그의 自覺이 잇기를 바라...   \n",
       "319                                            ＜14-20＞   \n",
       "\n",
       "                                                tokens  \n",
       "0                                                 [謝告]  \n",
       "1    [本, 開闢, 創刊, 號中, 力, 萬能, 主義, 題末, 금, 쌀, 악, 옥, 가루,...  \n",
       "2                                                   []  \n",
       "3                                          [開闢, 編輯, 室]  \n",
       "4                                                 [正誤]  \n",
       "..                                                 ...  \n",
       "315            [故老, 年, 靑年, 蔑視, 一事, 오로지, 輕佻, 浮薄, 問題, 바]  \n",
       "316  [故, 靑年, 者, 이, 點, 自重, 自愼, 勇斷, 잇서, 도, 輕擧, 失, 經驗,...  \n",
       "317                                                 []  \n",
       "318  [吾人, 어대, 各地, 靑年會, 勃興, 歡迎, 그리, 그, 自覺, 前進, 事業, 好...  \n",
       "319                                                 []  \n",
       "\n",
       "[320 rows x 4 columns]"
      ]
     },
     "execution_count": 17,
     "metadata": {},
     "output_type": "execute_result"
    }
   ],
   "source": [
    "# 'Content' 열에 kiwi 형태소 분석기 적용\n",
    "new_sent_df['tokens'] = new_sent_df['Content'].apply(do_morph)\n",
    "new_sent_df"
   ]
  },
  {
   "cell_type": "code",
   "execution_count": 18,
   "metadata": {
    "id": "kZ-RNAMXoVaw",
    "tags": []
   },
   "outputs": [
    {
     "data": {
      "text/html": [
       "<div>\n",
       "<style scoped>\n",
       "    .dataframe tbody tr th:only-of-type {\n",
       "        vertical-align: middle;\n",
       "    }\n",
       "\n",
       "    .dataframe tbody tr th {\n",
       "        vertical-align: top;\n",
       "    }\n",
       "\n",
       "    .dataframe thead th {\n",
       "        text-align: right;\n",
       "    }\n",
       "</style>\n",
       "<table border=\"1\" class=\"dataframe\">\n",
       "  <thead>\n",
       "    <tr style=\"text-align: right;\">\n",
       "      <th></th>\n",
       "      <th>sent_id</th>\n",
       "      <th>자료ID</th>\n",
       "      <th>Content</th>\n",
       "      <th>tokens</th>\n",
       "    </tr>\n",
       "  </thead>\n",
       "  <tbody>\n",
       "    <tr>\n",
       "      <th>0</th>\n",
       "      <td>1</td>\n",
       "      <td>ma_013_0010_0001</td>\n",
       "      <td>謝告</td>\n",
       "      <td>謝告</td>\n",
       "    </tr>\n",
       "    <tr>\n",
       "      <th>1</th>\n",
       "      <td>2</td>\n",
       "      <td>ma_013_0010_0001</td>\n",
       "      <td>本 開闢 創刊號 中力萬能主義의 題末에 「금쌀악, 옥가루」와 檀君神話의 末段 二行과 ...</td>\n",
       "      <td>本 開闢 創刊 號中 力 萬能 主義 題末 금 쌀 악 옥 가루 檀君 神話 末段 二行 그...</td>\n",
       "    </tr>\n",
       "    <tr>\n",
       "      <th>2</th>\n",
       "      <td>3</td>\n",
       "      <td>ma_013_0010_0001</td>\n",
       "      <td>開闢編輯室</td>\n",
       "      <td>開闢 編輯 室</td>\n",
       "    </tr>\n",
       "    <tr>\n",
       "      <th>3</th>\n",
       "      <td>4</td>\n",
       "      <td>ma_013_0010_0001</td>\n",
       "      <td>正誤</td>\n",
       "      <td>正誤</td>\n",
       "    </tr>\n",
       "    <tr>\n",
       "      <th>4</th>\n",
       "      <td>5</td>\n",
       "      <td>ma_013_0010_0001</td>\n",
       "      <td>本號外 一三八頁 「平濟塔記事中」興王寺는 王興寺로</td>\n",
       "      <td>本 號外 一三八 頁 平濟 塔 記事中 興王 寺王 興寺</td>\n",
       "    </tr>\n",
       "  </tbody>\n",
       "</table>\n",
       "</div>"
      ],
      "text/plain": [
       "   sent_id              자료ID  \\\n",
       "0        1  ma_013_0010_0001   \n",
       "1        2  ma_013_0010_0001   \n",
       "2        3  ma_013_0010_0001   \n",
       "3        4  ma_013_0010_0001   \n",
       "4        5  ma_013_0010_0001   \n",
       "\n",
       "                                             Content  \\\n",
       "0                                                 謝告   \n",
       "1  本 開闢 創刊號 中力萬能主義의 題末에 「금쌀악, 옥가루」와 檀君神話의 末段 二行과 ...   \n",
       "2                                              開闢編輯室   \n",
       "3                                                 正誤   \n",
       "4                         本號外 一三八頁 「平濟塔記事中」興王寺는 王興寺로   \n",
       "\n",
       "                                              tokens  \n",
       "0                                                 謝告  \n",
       "1  本 開闢 創刊 號中 力 萬能 主義 題末 금 쌀 악 옥 가루 檀君 神話 末段 二行 그...  \n",
       "2                                            開闢 編輯 室  \n",
       "3                                                 正誤  \n",
       "4                       本 號外 一三八 頁 平濟 塔 記事中 興王 寺王 興寺  "
      ]
     },
     "execution_count": 18,
     "metadata": {},
     "output_type": "execute_result"
    }
   ],
   "source": [
    "# 'tokens' 열에서 리스트 요소가 하나도 없는 행 제거\n",
    "new_sent_df1 = new_sent_df[new_sent_df['tokens'].str.len() > 0]\n",
    "\n",
    "new_sent_df1 = new_sent_df1.copy()\n",
    "new_sent_df1['tokens'] = new_sent_df1['tokens'].apply(lambda x: ' '.join(x)) # 리스트를 문자열로\n",
    "\n",
    "new_sent_df1.reset_index(drop=True, inplace=True) # 인덱스 초기화\n",
    "new_sent_df1['sent_id'] = new_sent_df1.index + 1 # sent_id 재넘버링\n",
    "new_sent_df1.head()"
   ]
  },
  {
   "cell_type": "markdown",
   "metadata": {
    "id": "f1XOYGydyAVI"
   },
   "source": [
    "# 5_[활용] 단어 빈도"
   ]
  },
  {
   "cell_type": "code",
   "execution_count": 19,
   "metadata": {
    "id": "7zM5pCXtyFGH",
    "tags": []
   },
   "outputs": [
    {
     "data": {
      "text/plain": [
       "0      謝告\n",
       "1       本\n",
       "1      開闢\n",
       "1      創刊\n",
       "1      號中\n",
       "       ..\n",
       "243    事業\n",
       "243    好果\n",
       "243    바로\n",
       "243     다\n",
       "243    未完\n",
       "Name: tokens, Length: 3606, dtype: object"
      ]
     },
     "execution_count": 19,
     "metadata": {},
     "output_type": "execute_result"
    }
   ],
   "source": [
    "# 'tokens' 열의 문자열을 빈칸으로 분리하여 모든 단어들을 리스트로 추출\n",
    "words = new_sent_df1['tokens'].str.split().explode()\n",
    "words"
   ]
  },
  {
   "cell_type": "code",
   "execution_count": 20,
   "metadata": {
    "id": "7zM5pCXtyFGH",
    "tags": []
   },
   "outputs": [
    {
     "name": "stdout",
     "output_type": "stream",
     "text": [
      "tokens\n",
      "世界    79\n",
      "이     78\n",
      "그     56\n",
      "것     53\n",
      "안     47\n",
      "우리    39\n",
      "다     37\n",
      "新     25\n",
      "宗敎    24\n",
      "自己    23\n",
      "바     21\n",
      "人類    20\n",
      "朝鮮    20\n",
      "信仰    20\n",
      "者     20\n",
      "吾人    19\n",
      "을     18\n",
      "안이    18\n",
      "그리    17\n",
      "活動    17\n",
      "Name: count, dtype: int64\n"
     ]
    }
   ],
   "source": [
    "# 단어들의 빈도 계산\n",
    "word_counts = words.value_counts()\n",
    "\n",
    "# 결과 출력\n",
    "print(word_counts[:20])"
   ]
  },
  {
   "cell_type": "code",
   "execution_count": 21,
   "metadata": {
    "id": "DZOvM9V5zciZ",
    "tags": []
   },
   "outputs": [
    {
     "data": {
      "text/plain": [
       "tokens\n",
       "世界    79\n",
       "우리    39\n",
       "宗敎    24\n",
       "自己    23\n",
       "人類    20\n",
       "朝鮮    20\n",
       "信仰    20\n",
       "吾人    19\n",
       "안이    18\n",
       "그리    17\n",
       "活動    17\n",
       "무엇    15\n",
       "소리    15\n",
       "今日    15\n",
       "人民    15\n",
       "開闢    15\n",
       "國家    14\n",
       "進化    13\n",
       "가티    13\n",
       "現象    12\n",
       "Name: count, dtype: int64"
      ]
     },
     "execution_count": 21,
     "metadata": {},
     "output_type": "execute_result"
    }
   ],
   "source": [
    "# 인덱스(단어)의 길이가 2 이상인 것만 선택\n",
    "word_counts_1 = word_counts[word_counts.index.str.len() >= 2]\n",
    "word_counts_1[:20]"
   ]
  },
  {
   "cell_type": "markdown",
   "metadata": {},
   "source": [
    "# The End of Notebook"
   ]
  }
 ],
 "metadata": {
  "colab": {
   "authorship_tag": "ABX9TyPhiEpy4HtzdGXwYmnNwvUT",
   "private_outputs": true,
   "provenance": [],
   "toc_visible": true
  },
  "kernelspec": {
   "display_name": "Python 3 (ipykernel)",
   "language": "python",
   "name": "python3"
  },
  "language_info": {
   "codemirror_mode": {
    "name": "ipython",
    "version": 3
   },
   "file_extension": ".py",
   "mimetype": "text/x-python",
   "name": "python",
   "nbconvert_exporter": "python",
   "pygments_lexer": "ipython3",
   "version": "3.11.5"
  }
 },
 "nbformat": 4,
 "nbformat_minor": 4
}
